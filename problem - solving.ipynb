{
 "cells": [
  {
   "cell_type": "markdown",
   "metadata": {},
   "source": [
    "# TRANSFORM TO THE SUM\n"
   ]
  },
  {
   "cell_type": "code",
   "execution_count": 17,
   "metadata": {},
   "outputs": [
    {
     "name": "stdout",
     "output_type": "stream",
     "text": [
      "Inorder Traversal of the resultant tree is: \n",
      "0 4 0 20 0 12 0 "
     ]
    }
   ],
   "source": [
    "class node: \n",
    "      \n",
    "    def __init__(self, data): \n",
    "        self.left = None\n",
    "        self.right = None\n",
    "        self.data = data \n",
    "# Convert a given tree to a tree where \n",
    "# every node contains sum of values of \n",
    "# nodes in left and right subtrees \n",
    "# in the original tree \n",
    "def toSumTree(Node) :\n",
    "      \n",
    "    # Base case \n",
    "    if(Node == None) :\n",
    "        return 0\n",
    "    old_val = Node.data \n",
    "  \n",
    "    # Recursively call for left and \n",
    "    # right subtrees and store the sum as \n",
    "    # new value of this node \n",
    "    Node.data = toSumTree(Node.left) + \\\n",
    "                toSumTree(Node.right) \n",
    "  \n",
    "    # Return the sum of values of nodes \n",
    "    # in left and right subtrees and \n",
    "    # old_value of this node \n",
    "    return Node.data + old_val \n",
    "  \n",
    "# A utility function to print \n",
    "# inorder traversal of a Binary Tree \n",
    "def printInorder(Node) :\n",
    "    if (Node == None) :\n",
    "        return\n",
    "    printInorder(Node.left) \n",
    "    print(Node.data, end = \" \") \n",
    "    printInorder(Node.right) \n",
    "      \n",
    "# Utility function to create a new Binary Tree node \n",
    "def newNode(data) :\n",
    "    temp = node(0)\n",
    "    temp.data = data \n",
    "    temp.left = None\n",
    "    temp.right = None\n",
    "      \n",
    "    return temp \n",
    "  \n",
    "# Driver Code \n",
    "if __name__ == \"__main__\": \n",
    "    root = None\n",
    "    x = 0\n",
    "      \n",
    "    # Constructing tree given in the above figure \n",
    "    root = newNode(10) \n",
    "    root.left = newNode(-2) \n",
    "    root.right = newNode(6) \n",
    "    root.left.left = newNode(8) \n",
    "    root.left.right = newNode(-4) \n",
    "    root.right.left = newNode(7) \n",
    "    root.right.right = newNode(5) \n",
    "      \n",
    "    toSumTree(root)\n",
    "    print(\"Inorder Traversal of the resultant tree is: \") \n",
    "    printInorder(root) \n",
    "  "
   ]
  },
  {
   "cell_type": "markdown",
   "metadata": {},
   "source": [
    "# sum of two number without using airthmatic operator \n"
   ]
  },
  {
   "cell_type": "code",
   "execution_count": 1,
   "metadata": {},
   "outputs": [
    {
     "name": "stdout",
     "output_type": "stream",
     "text": [
      "47\n"
     ]
    }
   ],
   "source": [
    "def add(x,y):\n",
    "    while(y!=0):\n",
    "        carry = x&y\n",
    "        x = x^y\n",
    "        y = carry<<1\n",
    "    return x\n",
    "print(add(15,32))"
   ]
  },
  {
   "cell_type": "code",
   "execution_count": null,
   "metadata": {},
   "outputs": [],
   "source": []
  }
 ],
 "metadata": {
  "kernelspec": {
   "display_name": "Python 3",
   "language": "python",
   "name": "python3"
  },
  "language_info": {
   "codemirror_mode": {
    "name": "ipython",
    "version": 3
   },
   "file_extension": ".py",
   "mimetype": "text/x-python",
   "name": "python",
   "nbconvert_exporter": "python",
   "pygments_lexer": "ipython3",
   "version": "3.7.4"
  }
 },
 "nbformat": 4,
 "nbformat_minor": 2
}
